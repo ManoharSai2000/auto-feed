{
 "cells": [
  {
   "cell_type": "code",
   "execution_count": 1,
   "metadata": {},
   "outputs": [],
   "source": [
    "from iolib.file_utils import read_pkl"
   ]
  },
  {
   "cell_type": "code",
   "execution_count": 2,
   "metadata": {},
   "outputs": [],
   "source": [
    "import pandas as pd"
   ]
  },
  {
   "cell_type": "code",
   "execution_count": 1,
   "metadata": {},
   "outputs": [],
   "source": [
    "customer = \"remitly\"\n",
    "os.makedirs(f\"./data/{customer}\",exist_ok=True)\n"
   ]
  },
  {
   "cell_type": "code",
   "execution_count": 138,
   "metadata": {},
   "outputs": [],
   "source": [
    "comp = read_pkl(f\"s3://enterpret-artifacts/common/data/otf/{customer}/competitor.pkl\")"
   ]
  },
  {
   "cell_type": "code",
   "execution_count": 139,
   "metadata": {},
   "outputs": [
    {
     "data": {
      "text/html": [
       "<div>\n",
       "<style scoped>\n",
       "    .dataframe tbody tr th:only-of-type {\n",
       "        vertical-align: middle;\n",
       "    }\n",
       "\n",
       "    .dataframe tbody tr th {\n",
       "        vertical-align: top;\n",
       "    }\n",
       "\n",
       "    .dataframe thead th {\n",
       "        text-align: right;\n",
       "    }\n",
       "</style>\n",
       "<table border=\"1\" class=\"dataframe\">\n",
       "  <thead>\n",
       "    <tr style=\"text-align: right;\">\n",
       "      <th></th>\n",
       "      <th>original_untokenised_msg</th>\n",
       "      <th>competitor_mention</th>\n",
       "    </tr>\n",
       "  </thead>\n",
       "  <tbody>\n",
       "    <tr>\n",
       "      <th>0</th>\n",
       "      <td>Picture quality is not good Very bad quality 😡😡</td>\n",
       "      <td>False</td>\n",
       "    </tr>\n",
       "    <tr>\n",
       "      <th>1</th>\n",
       "      <td>The application is very good I loved it</td>\n",
       "      <td>False</td>\n",
       "    </tr>\n",
       "    <tr>\n",
       "      <th>2</th>\n",
       "      <td>اكتيير حلو ♥♥♥♥☺☑بس ممكن التنزيل بسرعه لو سمحت</td>\n",
       "      <td>False</td>\n",
       "    </tr>\n",
       "    <tr>\n",
       "      <th>3</th>\n",
       "      <td>A bad done copy of all the social who exist on...</td>\n",
       "      <td>False</td>\n",
       "    </tr>\n",
       "    <tr>\n",
       "      <th>4</th>\n",
       "      <td>Because it was too late to download</td>\n",
       "      <td>False</td>\n",
       "    </tr>\n",
       "  </tbody>\n",
       "</table>\n",
       "</div>"
      ],
      "text/plain": [
       "                            original_untokenised_msg  competitor_mention\n",
       "0    Picture quality is not good Very bad quality 😡😡               False\n",
       "1            The application is very good I loved it               False\n",
       "2     اكتيير حلو ♥♥♥♥☺☑بس ممكن التنزيل بسرعه لو سمحت               False\n",
       "3  A bad done copy of all the social who exist on...               False\n",
       "4                Because it was too late to download               False"
      ]
     },
     "execution_count": 139,
     "metadata": {},
     "output_type": "execute_result"
    }
   ],
   "source": [
    "comp.head()"
   ]
  },
  {
   "cell_type": "code",
   "execution_count": 140,
   "metadata": {},
   "outputs": [],
   "source": [
    "import os\n",
    "os.makedirs(f\"/Users/manoharalapati/Hackathon/streamlit-demo/data/{customer}\",exist_ok=True)\n",
    "comp.to_pickle(f\"/Users/manoharalapati/Hackathon/streamlit-demo/data/{customer}/competitor.pkl\")"
   ]
  },
  {
   "cell_type": "code",
   "execution_count": 141,
   "metadata": {},
   "outputs": [
    {
     "data": {
      "text/html": [
       "<div>\n",
       "<style scoped>\n",
       "    .dataframe tbody tr th:only-of-type {\n",
       "        vertical-align: middle;\n",
       "    }\n",
       "\n",
       "    .dataframe tbody tr th {\n",
       "        vertical-align: top;\n",
       "    }\n",
       "\n",
       "    .dataframe thead th {\n",
       "        text-align: right;\n",
       "    }\n",
       "</style>\n",
       "<table border=\"1\" class=\"dataframe\">\n",
       "  <thead>\n",
       "    <tr style=\"text-align: right;\">\n",
       "      <th></th>\n",
       "      <th>original_untokenised_msg</th>\n",
       "      <th>competitor_mention</th>\n",
       "    </tr>\n",
       "  </thead>\n",
       "  <tbody>\n",
       "    <tr>\n",
       "      <th>0</th>\n",
       "      <td>Picture quality is not good Very bad quality 😡😡</td>\n",
       "      <td>False</td>\n",
       "    </tr>\n",
       "    <tr>\n",
       "      <th>1</th>\n",
       "      <td>The application is very good I loved it</td>\n",
       "      <td>False</td>\n",
       "    </tr>\n",
       "    <tr>\n",
       "      <th>2</th>\n",
       "      <td>اكتيير حلو ♥♥♥♥☺☑بس ممكن التنزيل بسرعه لو سمحت</td>\n",
       "      <td>False</td>\n",
       "    </tr>\n",
       "    <tr>\n",
       "      <th>3</th>\n",
       "      <td>A bad done copy of all the social who exist on...</td>\n",
       "      <td>False</td>\n",
       "    </tr>\n",
       "    <tr>\n",
       "      <th>4</th>\n",
       "      <td>Because it was too late to download</td>\n",
       "      <td>False</td>\n",
       "    </tr>\n",
       "  </tbody>\n",
       "</table>\n",
       "</div>"
      ],
      "text/plain": [
       "                            original_untokenised_msg  competitor_mention\n",
       "0    Picture quality is not good Very bad quality 😡😡               False\n",
       "1            The application is very good I loved it               False\n",
       "2     اكتيير حلو ♥♥♥♥☺☑بس ممكن التنزيل بسرعه لو سمحت               False\n",
       "3  A bad done copy of all the social who exist on...               False\n",
       "4                Because it was too late to download               False"
      ]
     },
     "execution_count": 141,
     "metadata": {},
     "output_type": "execute_result"
    }
   ],
   "source": [
    "comp.head()"
   ]
  },
  {
   "cell_type": "code",
   "execution_count": 4,
   "metadata": {},
   "outputs": [],
   "source": [
    "tokenized = read_pkl(f\"s3://enterpret-artifacts/common/data/otf/{customer}/tokenised_df.pkl\")"
   ]
  },
  {
   "cell_type": "code",
   "execution_count": 5,
   "metadata": {},
   "outputs": [
    {
     "data": {
      "text/html": [
       "<div>\n",
       "<style scoped>\n",
       "    .dataframe tbody tr th:only-of-type {\n",
       "        vertical-align: middle;\n",
       "    }\n",
       "\n",
       "    .dataframe tbody tr th {\n",
       "        vertical-align: top;\n",
       "    }\n",
       "\n",
       "    .dataframe thead th {\n",
       "        text-align: right;\n",
       "    }\n",
       "</style>\n",
       "<table border=\"1\" class=\"dataframe\">\n",
       "  <thead>\n",
       "    <tr style=\"text-align: right;\">\n",
       "      <th></th>\n",
       "      <th>original_untokenised_msg</th>\n",
       "      <th>msg</th>\n",
       "      <th>createdAt</th>\n",
       "      <th>rating</th>\n",
       "      <th>version</th>\n",
       "      <th>id</th>\n",
       "      <th>source</th>\n",
       "      <th>lang</th>\n",
       "    </tr>\n",
       "  </thead>\n",
       "  <tbody>\n",
       "    <tr>\n",
       "      <th>0</th>\n",
       "      <td>it's excellent and the money arrives on time</td>\n",
       "      <td>it is excellent and the money arrives on time</td>\n",
       "      <td>2022-06-24 06:56:58</td>\n",
       "      <td>5</td>\n",
       "      <td>5.65</td>\n",
       "      <td>916bfbb1-ec0e-4958-aa52-e8766557c541</td>\n",
       "      <td>Playstore</td>\n",
       "      <td>en</td>\n",
       "    </tr>\n",
       "    <tr>\n",
       "      <th>1</th>\n",
       "      <td>Fantastic Service...... Awesome</td>\n",
       "      <td>fantastic service.</td>\n",
       "      <td>2021-12-06 19:21:56</td>\n",
       "      <td>5</td>\n",
       "      <td></td>\n",
       "      <td>9b58c766-16c2-486a-92c0-aaa2b1c89d02</td>\n",
       "      <td>Playstore</td>\n",
       "      <td>en</td>\n",
       "    </tr>\n",
       "    <tr>\n",
       "      <th>3</th>\n",
       "      <td>Great exchange rates and customer service</td>\n",
       "      <td>great exchange rates and customer service</td>\n",
       "      <td>2021-04-12 15:12:02</td>\n",
       "      <td>5</td>\n",
       "      <td>5.36</td>\n",
       "      <td>f3d9541c-a215-424b-b942-420fd01c507b</td>\n",
       "      <td>Playstore</td>\n",
       "      <td>en</td>\n",
       "    </tr>\n",
       "    <tr>\n",
       "      <th>4</th>\n",
       "      <td>Super attentive when I needed assistance, I ne...</td>\n",
       "      <td>super attentive when i needed assistance, i ne...</td>\n",
       "      <td>2021-02-18 14:35:45</td>\n",
       "      <td>5</td>\n",
       "      <td>5.32</td>\n",
       "      <td>cee6bd60-2b78-45d4-8f95-03e91a189e13</td>\n",
       "      <td>Playstore</td>\n",
       "      <td>en</td>\n",
       "    </tr>\n",
       "    <tr>\n",
       "      <th>5</th>\n",
       "      <td>I just love nothing better to send money fast ...</td>\n",
       "      <td>i just love nothing better to send money fast ...</td>\n",
       "      <td>2021-11-17 21:16:33</td>\n",
       "      <td>5</td>\n",
       "      <td>5.48</td>\n",
       "      <td>5ff1d89b-e359-43b2-8584-3fff6aa77dff</td>\n",
       "      <td>Playstore</td>\n",
       "      <td>en</td>\n",
       "    </tr>\n",
       "  </tbody>\n",
       "</table>\n",
       "</div>"
      ],
      "text/plain": [
       "                            original_untokenised_msg  \\\n",
       "0       it's excellent and the money arrives on time   \n",
       "1                    Fantastic Service...... Awesome   \n",
       "3          Great exchange rates and customer service   \n",
       "4  Super attentive when I needed assistance, I ne...   \n",
       "5  I just love nothing better to send money fast ...   \n",
       "\n",
       "                                                 msg           createdAt  \\\n",
       "0      it is excellent and the money arrives on time 2022-06-24 06:56:58   \n",
       "1                                 fantastic service. 2021-12-06 19:21:56   \n",
       "3          great exchange rates and customer service 2021-04-12 15:12:02   \n",
       "4  super attentive when i needed assistance, i ne... 2021-02-18 14:35:45   \n",
       "5  i just love nothing better to send money fast ... 2021-11-17 21:16:33   \n",
       "\n",
       "   rating version                                    id     source lang  \n",
       "0       5    5.65  916bfbb1-ec0e-4958-aa52-e8766557c541  Playstore   en  \n",
       "1       5          9b58c766-16c2-486a-92c0-aaa2b1c89d02  Playstore   en  \n",
       "3       5    5.36  f3d9541c-a215-424b-b942-420fd01c507b  Playstore   en  \n",
       "4       5    5.32  cee6bd60-2b78-45d4-8f95-03e91a189e13  Playstore   en  \n",
       "5       5    5.48  5ff1d89b-e359-43b2-8584-3fff6aa77dff  Playstore   en  "
      ]
     },
     "execution_count": 5,
     "metadata": {},
     "output_type": "execute_result"
    }
   ],
   "source": [
    "tokenized.head()"
   ]
  },
  {
   "cell_type": "code",
   "execution_count": 6,
   "metadata": {},
   "outputs": [],
   "source": [
    "sentiment = read_pkl(f\"s3://enterpret-artifacts/common/data/otf/{customer}/sentiment_df.pkl\")"
   ]
  },
  {
   "cell_type": "code",
   "execution_count": 7,
   "metadata": {},
   "outputs": [
    {
     "data": {
      "text/html": [
       "<div>\n",
       "<style scoped>\n",
       "    .dataframe tbody tr th:only-of-type {\n",
       "        vertical-align: middle;\n",
       "    }\n",
       "\n",
       "    .dataframe tbody tr th {\n",
       "        vertical-align: top;\n",
       "    }\n",
       "\n",
       "    .dataframe thead th {\n",
       "        text-align: right;\n",
       "    }\n",
       "</style>\n",
       "<table border=\"1\" class=\"dataframe\">\n",
       "  <thead>\n",
       "    <tr style=\"text-align: right;\">\n",
       "      <th></th>\n",
       "      <th>original_untokenised_msg</th>\n",
       "      <th>sentiment</th>\n",
       "      <th>sentiment_confidence</th>\n",
       "    </tr>\n",
       "  </thead>\n",
       "  <tbody>\n",
       "    <tr>\n",
       "      <th>0</th>\n",
       "      <td>it's excellent and the money arrives on time</td>\n",
       "      <td>Positive</td>\n",
       "      <td>99.0</td>\n",
       "    </tr>\n",
       "    <tr>\n",
       "      <th>1</th>\n",
       "      <td>Fantastic Service...... Awesome</td>\n",
       "      <td>Positive</td>\n",
       "      <td>99.0</td>\n",
       "    </tr>\n",
       "    <tr>\n",
       "      <th>3</th>\n",
       "      <td>Great exchange rates and customer service</td>\n",
       "      <td>Positive</td>\n",
       "      <td>98.0</td>\n",
       "    </tr>\n",
       "    <tr>\n",
       "      <th>4</th>\n",
       "      <td>Super attentive when I needed assistance, I ne...</td>\n",
       "      <td>Negative</td>\n",
       "      <td>59.0</td>\n",
       "    </tr>\n",
       "    <tr>\n",
       "      <th>5</th>\n",
       "      <td>I just love nothing better to send money fast ...</td>\n",
       "      <td>Positive</td>\n",
       "      <td>96.0</td>\n",
       "    </tr>\n",
       "  </tbody>\n",
       "</table>\n",
       "</div>"
      ],
      "text/plain": [
       "                            original_untokenised_msg sentiment  \\\n",
       "0       it's excellent and the money arrives on time  Positive   \n",
       "1                    Fantastic Service...... Awesome  Positive   \n",
       "3          Great exchange rates and customer service  Positive   \n",
       "4  Super attentive when I needed assistance, I ne...  Negative   \n",
       "5  I just love nothing better to send money fast ...  Positive   \n",
       "\n",
       "   sentiment_confidence  \n",
       "0                  99.0  \n",
       "1                  99.0  \n",
       "3                  98.0  \n",
       "4                  59.0  \n",
       "5                  96.0  "
      ]
     },
     "execution_count": 7,
     "metadata": {},
     "output_type": "execute_result"
    }
   ],
   "source": [
    "sentiment.head()"
   ]
  },
  {
   "cell_type": "code",
   "execution_count": 8,
   "metadata": {},
   "outputs": [],
   "source": [
    "reas_sent = read_pkl(f\"s3://enterpret-artifacts/common/data/otf/{customer}/reason_sentiment_df.pkl\")"
   ]
  },
  {
   "cell_type": "code",
   "execution_count": 9,
   "metadata": {},
   "outputs": [
    {
     "data": {
      "text/html": [
       "<div>\n",
       "<style scoped>\n",
       "    .dataframe tbody tr th:only-of-type {\n",
       "        vertical-align: middle;\n",
       "    }\n",
       "\n",
       "    .dataframe tbody tr th {\n",
       "        vertical-align: top;\n",
       "    }\n",
       "\n",
       "    .dataframe thead th {\n",
       "        text-align: right;\n",
       "    }\n",
       "</style>\n",
       "<table border=\"1\" class=\"dataframe\">\n",
       "  <thead>\n",
       "    <tr style=\"text-align: right;\">\n",
       "      <th></th>\n",
       "      <th>reason</th>\n",
       "      <th>reason_sentiment</th>\n",
       "    </tr>\n",
       "  </thead>\n",
       "  <tbody>\n",
       "    <tr>\n",
       "      <th>0</th>\n",
       "      <td>good for transfer</td>\n",
       "      <td>Positive</td>\n",
       "    </tr>\n",
       "    <tr>\n",
       "      <th>1</th>\n",
       "      <td>want to cancel transaction</td>\n",
       "      <td>Neutral</td>\n",
       "    </tr>\n",
       "    <tr>\n",
       "      <th>2</th>\n",
       "      <td>customer service is bad</td>\n",
       "      <td>Negative</td>\n",
       "    </tr>\n",
       "    <tr>\n",
       "      <th>3</th>\n",
       "      <td>easy to transfer money</td>\n",
       "      <td>Positive</td>\n",
       "    </tr>\n",
       "    <tr>\n",
       "      <th>4</th>\n",
       "      <td>unable to transfer money</td>\n",
       "      <td>Negative</td>\n",
       "    </tr>\n",
       "  </tbody>\n",
       "</table>\n",
       "</div>"
      ],
      "text/plain": [
       "                       reason reason_sentiment\n",
       "0           good for transfer         Positive\n",
       "1  want to cancel transaction          Neutral\n",
       "2     customer service is bad         Negative\n",
       "3      easy to transfer money         Positive\n",
       "4    unable to transfer money         Negative"
      ]
     },
     "execution_count": 9,
     "metadata": {},
     "output_type": "execute_result"
    }
   ],
   "source": [
    "reas_sent.head()"
   ]
  },
  {
   "cell_type": "code",
   "execution_count": 10,
   "metadata": {},
   "outputs": [],
   "source": [
    "reasons = read_pkl(f\"s3://enterpret-artifacts/common/data/otf/{customer}/reason_df.pkl\")"
   ]
  },
  {
   "cell_type": "code",
   "execution_count": 11,
   "metadata": {},
   "outputs": [
    {
     "data": {
      "text/html": [
       "<div>\n",
       "<style scoped>\n",
       "    .dataframe tbody tr th:only-of-type {\n",
       "        vertical-align: middle;\n",
       "    }\n",
       "\n",
       "    .dataframe tbody tr th {\n",
       "        vertical-align: top;\n",
       "    }\n",
       "\n",
       "    .dataframe thead th {\n",
       "        text-align: right;\n",
       "    }\n",
       "</style>\n",
       "<table border=\"1\" class=\"dataframe\">\n",
       "  <thead>\n",
       "    <tr style=\"text-align: right;\">\n",
       "      <th></th>\n",
       "      <th>original_untokenised_msg</th>\n",
       "      <th>reason</th>\n",
       "    </tr>\n",
       "  </thead>\n",
       "  <tbody>\n",
       "    <tr>\n",
       "      <th>0</th>\n",
       "      <td>#one of the best international money transfer ...</td>\n",
       "      <td>[good for transfer]</td>\n",
       "    </tr>\n",
       "    <tr>\n",
       "      <th>1</th>\n",
       "      <td>'No endless drama' with remitly...for example,...</td>\n",
       "      <td>[want to cancel transaction]</td>\n",
       "    </tr>\n",
       "    <tr>\n",
       "      <th>2</th>\n",
       "      <td>(-) 5 Minus 5 Stars, Customer Service is insul...</td>\n",
       "      <td>[customer service is bad]</td>\n",
       "    </tr>\n",
       "    <tr>\n",
       "      <th>3</th>\n",
       "      <td>*A very helpful, cheap and fast way to transfe...</td>\n",
       "      <td>[easy to transfer money]</td>\n",
       "    </tr>\n",
       "    <tr>\n",
       "      <th>4</th>\n",
       "      <td>- Doesn't work, money transfer was cancelled w...</td>\n",
       "      <td>[unable to transfer money]</td>\n",
       "    </tr>\n",
       "  </tbody>\n",
       "</table>\n",
       "</div>"
      ],
      "text/plain": [
       "                            original_untokenised_msg  \\\n",
       "0  #one of the best international money transfer ...   \n",
       "1  'No endless drama' with remitly...for example,...   \n",
       "2  (-) 5 Minus 5 Stars, Customer Service is insul...   \n",
       "3  *A very helpful, cheap and fast way to transfe...   \n",
       "4  - Doesn't work, money transfer was cancelled w...   \n",
       "\n",
       "                         reason  \n",
       "0           [good for transfer]  \n",
       "1  [want to cancel transaction]  \n",
       "2     [customer service is bad]  \n",
       "3      [easy to transfer money]  \n",
       "4    [unable to transfer money]  "
      ]
     },
     "execution_count": 11,
     "metadata": {},
     "output_type": "execute_result"
    }
   ],
   "source": [
    "reasons.head()"
   ]
  },
  {
   "cell_type": "code",
   "execution_count": 12,
   "metadata": {},
   "outputs": [],
   "source": [
    "entities = read_pkl(f\"s3://enterpret-artifacts/common/data/otf/{customer}/entity_df.pkl\")"
   ]
  },
  {
   "cell_type": "code",
   "execution_count": 13,
   "metadata": {},
   "outputs": [
    {
     "data": {
      "text/html": [
       "<div>\n",
       "<style scoped>\n",
       "    .dataframe tbody tr th:only-of-type {\n",
       "        vertical-align: middle;\n",
       "    }\n",
       "\n",
       "    .dataframe tbody tr th {\n",
       "        vertical-align: top;\n",
       "    }\n",
       "\n",
       "    .dataframe thead th {\n",
       "        text-align: right;\n",
       "    }\n",
       "</style>\n",
       "<table border=\"1\" class=\"dataframe\">\n",
       "  <thead>\n",
       "    <tr style=\"text-align: right;\">\n",
       "      <th></th>\n",
       "      <th>original_untokenised_msg</th>\n",
       "      <th>entity</th>\n",
       "    </tr>\n",
       "  </thead>\n",
       "  <tbody>\n",
       "    <tr>\n",
       "      <th>2</th>\n",
       "      <td>#one of the best international money transfer ...</td>\n",
       "      <td>[exchange rate]</td>\n",
       "    </tr>\n",
       "    <tr>\n",
       "      <th>6</th>\n",
       "      <td>(-) 5 Minus 5 Stars, Customer Service is insul...</td>\n",
       "      <td>[payment]</td>\n",
       "    </tr>\n",
       "    <tr>\n",
       "      <th>18</th>\n",
       "      <td>.,1ezmitly too much code used</td>\n",
       "      <td>[code]</td>\n",
       "    </tr>\n",
       "    <tr>\n",
       "      <th>43</th>\n",
       "      <td>100 satisfied, excellent customers services, i...</td>\n",
       "      <td>[payment]</td>\n",
       "    </tr>\n",
       "    <tr>\n",
       "      <th>57</th>\n",
       "      <td>100% reliable, better exchange rate and money ...</td>\n",
       "      <td>[exchange rate]</td>\n",
       "    </tr>\n",
       "  </tbody>\n",
       "</table>\n",
       "</div>"
      ],
      "text/plain": [
       "                             original_untokenised_msg           entity\n",
       "2   #one of the best international money transfer ...  [exchange rate]\n",
       "6   (-) 5 Minus 5 Stars, Customer Service is insul...        [payment]\n",
       "18                      .,1ezmitly too much code used           [code]\n",
       "43  100 satisfied, excellent customers services, i...        [payment]\n",
       "57  100% reliable, better exchange rate and money ...  [exchange rate]"
      ]
     },
     "execution_count": 13,
     "metadata": {},
     "output_type": "execute_result"
    }
   ],
   "source": [
    "entities.head()"
   ]
  },
  {
   "cell_type": "code",
   "execution_count": 14,
   "metadata": {},
   "outputs": [
    {
     "data": {
      "text/plain": [
       "(9354, 2143)"
      ]
     },
     "execution_count": 14,
     "metadata": {},
     "output_type": "execute_result"
    }
   ],
   "source": [
    "len(reasons),len(entities)"
   ]
  },
  {
   "cell_type": "code",
   "execution_count": 15,
   "metadata": {},
   "outputs": [],
   "source": [
    "merger = pd.merge(reasons,entities,how=\"outer\",on=[\"original_untokenised_msg\"])"
   ]
  },
  {
   "cell_type": "code",
   "execution_count": 16,
   "metadata": {},
   "outputs": [
    {
     "data": {
      "text/plain": [
       "10500"
      ]
     },
     "execution_count": 16,
     "metadata": {},
     "output_type": "execute_result"
    }
   ],
   "source": [
    "len(merger)"
   ]
  },
  {
   "cell_type": "code",
   "execution_count": 17,
   "metadata": {},
   "outputs": [
    {
     "data": {
      "text/html": [
       "<div>\n",
       "<style scoped>\n",
       "    .dataframe tbody tr th:only-of-type {\n",
       "        vertical-align: middle;\n",
       "    }\n",
       "\n",
       "    .dataframe tbody tr th {\n",
       "        vertical-align: top;\n",
       "    }\n",
       "\n",
       "    .dataframe thead th {\n",
       "        text-align: right;\n",
       "    }\n",
       "</style>\n",
       "<table border=\"1\" class=\"dataframe\">\n",
       "  <thead>\n",
       "    <tr style=\"text-align: right;\">\n",
       "      <th></th>\n",
       "      <th>original_untokenised_msg</th>\n",
       "      <th>reason</th>\n",
       "      <th>entity</th>\n",
       "    </tr>\n",
       "  </thead>\n",
       "  <tbody>\n",
       "    <tr>\n",
       "      <th>0</th>\n",
       "      <td>#one of the best international money transfer ...</td>\n",
       "      <td>[good for transfer]</td>\n",
       "      <td>[exchange rate]</td>\n",
       "    </tr>\n",
       "    <tr>\n",
       "      <th>1</th>\n",
       "      <td>'No endless drama' with remitly...for example,...</td>\n",
       "      <td>[want to cancel transaction]</td>\n",
       "      <td>NaN</td>\n",
       "    </tr>\n",
       "    <tr>\n",
       "      <th>2</th>\n",
       "      <td>(-) 5 Minus 5 Stars, Customer Service is insul...</td>\n",
       "      <td>[customer service is bad]</td>\n",
       "      <td>[payment]</td>\n",
       "    </tr>\n",
       "    <tr>\n",
       "      <th>3</th>\n",
       "      <td>*A very helpful, cheap and fast way to transfe...</td>\n",
       "      <td>[easy to transfer money]</td>\n",
       "      <td>NaN</td>\n",
       "    </tr>\n",
       "    <tr>\n",
       "      <th>4</th>\n",
       "      <td>- Doesn't work, money transfer was cancelled w...</td>\n",
       "      <td>[unable to transfer money]</td>\n",
       "      <td>NaN</td>\n",
       "    </tr>\n",
       "  </tbody>\n",
       "</table>\n",
       "</div>"
      ],
      "text/plain": [
       "                            original_untokenised_msg  \\\n",
       "0  #one of the best international money transfer ...   \n",
       "1  'No endless drama' with remitly...for example,...   \n",
       "2  (-) 5 Minus 5 Stars, Customer Service is insul...   \n",
       "3  *A very helpful, cheap and fast way to transfe...   \n",
       "4  - Doesn't work, money transfer was cancelled w...   \n",
       "\n",
       "                         reason           entity  \n",
       "0           [good for transfer]  [exchange rate]  \n",
       "1  [want to cancel transaction]              NaN  \n",
       "2     [customer service is bad]        [payment]  \n",
       "3      [easy to transfer money]              NaN  \n",
       "4    [unable to transfer money]              NaN  "
      ]
     },
     "execution_count": 17,
     "metadata": {},
     "output_type": "execute_result"
    }
   ],
   "source": [
    "merger.head()"
   ]
  },
  {
   "cell_type": "code",
   "execution_count": 18,
   "metadata": {},
   "outputs": [],
   "source": [
    "merger = pd.merge(merger,tokenized,how=\"inner\",on=[\"original_untokenised_msg\"])"
   ]
  },
  {
   "cell_type": "code",
   "execution_count": 19,
   "metadata": {},
   "outputs": [
    {
     "data": {
      "text/html": [
       "<div>\n",
       "<style scoped>\n",
       "    .dataframe tbody tr th:only-of-type {\n",
       "        vertical-align: middle;\n",
       "    }\n",
       "\n",
       "    .dataframe tbody tr th {\n",
       "        vertical-align: top;\n",
       "    }\n",
       "\n",
       "    .dataframe thead th {\n",
       "        text-align: right;\n",
       "    }\n",
       "</style>\n",
       "<table border=\"1\" class=\"dataframe\">\n",
       "  <thead>\n",
       "    <tr style=\"text-align: right;\">\n",
       "      <th></th>\n",
       "      <th>original_untokenised_msg</th>\n",
       "      <th>reason</th>\n",
       "      <th>entity</th>\n",
       "      <th>msg</th>\n",
       "      <th>createdAt</th>\n",
       "      <th>rating</th>\n",
       "      <th>version</th>\n",
       "      <th>id</th>\n",
       "      <th>source</th>\n",
       "      <th>lang</th>\n",
       "    </tr>\n",
       "  </thead>\n",
       "  <tbody>\n",
       "    <tr>\n",
       "      <th>0</th>\n",
       "      <td>#one of the best international money transfer ...</td>\n",
       "      <td>[good for transfer]</td>\n",
       "      <td>[exchange rate]</td>\n",
       "      <td>#one of the best international money transfer ...</td>\n",
       "      <td>2019-01-11 02:27:25</td>\n",
       "      <td>5</td>\n",
       "      <td>4.17</td>\n",
       "      <td>a37282cd-746f-44be-a0cb-245ab6f5651e</td>\n",
       "      <td>Playstore</td>\n",
       "      <td>en</td>\n",
       "    </tr>\n",
       "    <tr>\n",
       "      <th>1</th>\n",
       "      <td>'No endless drama' with remitly...for example,...</td>\n",
       "      <td>[want to cancel transaction]</td>\n",
       "      <td>NaN</td>\n",
       "      <td>'no endless drama' with remitly.for example, i...</td>\n",
       "      <td>2020-06-20 13:29:40</td>\n",
       "      <td>4</td>\n",
       "      <td>5.16</td>\n",
       "      <td>320846b6-2204-4062-b85c-2e59d458ae6f</td>\n",
       "      <td>Playstore</td>\n",
       "      <td>en</td>\n",
       "    </tr>\n",
       "    <tr>\n",
       "      <th>2</th>\n",
       "      <td>(-) 5 Minus 5 Stars, Customer Service is insul...</td>\n",
       "      <td>[customer service is bad]</td>\n",
       "      <td>[payment]</td>\n",
       "      <td>(-) 5 minus 5 stars, customer service is insul...</td>\n",
       "      <td>2021-08-25 16:26:01</td>\n",
       "      <td>1</td>\n",
       "      <td>5.45</td>\n",
       "      <td>11deb1d4-d643-4f33-bc46-0b3c0e627f0c</td>\n",
       "      <td>Playstore</td>\n",
       "      <td>en</td>\n",
       "    </tr>\n",
       "    <tr>\n",
       "      <th>3</th>\n",
       "      <td>*A very helpful, cheap and fast way to transfe...</td>\n",
       "      <td>[easy to transfer money]</td>\n",
       "      <td>NaN</td>\n",
       "      <td>*a very helpful, cheap and fast way to transfe...</td>\n",
       "      <td>2021-02-03 07:00:30</td>\n",
       "      <td>5</td>\n",
       "      <td>5.32</td>\n",
       "      <td>95bd6285-ace9-4970-9451-f21f0eaa76f0</td>\n",
       "      <td>Playstore</td>\n",
       "      <td>en</td>\n",
       "    </tr>\n",
       "    <tr>\n",
       "      <th>4</th>\n",
       "      <td>- Doesn't work, money transfer was cancelled w...</td>\n",
       "      <td>[unable to transfer money]</td>\n",
       "      <td>NaN</td>\n",
       "      <td>- does not work, money transfer was cancelled ...</td>\n",
       "      <td>2021-08-09 12:24:50</td>\n",
       "      <td>1</td>\n",
       "      <td>5.45</td>\n",
       "      <td>3326e907-03ea-41a2-b661-510f9be7e3b3</td>\n",
       "      <td>Playstore</td>\n",
       "      <td>en</td>\n",
       "    </tr>\n",
       "  </tbody>\n",
       "</table>\n",
       "</div>"
      ],
      "text/plain": [
       "                            original_untokenised_msg  \\\n",
       "0  #one of the best international money transfer ...   \n",
       "1  'No endless drama' with remitly...for example,...   \n",
       "2  (-) 5 Minus 5 Stars, Customer Service is insul...   \n",
       "3  *A very helpful, cheap and fast way to transfe...   \n",
       "4  - Doesn't work, money transfer was cancelled w...   \n",
       "\n",
       "                         reason           entity  \\\n",
       "0           [good for transfer]  [exchange rate]   \n",
       "1  [want to cancel transaction]              NaN   \n",
       "2     [customer service is bad]        [payment]   \n",
       "3      [easy to transfer money]              NaN   \n",
       "4    [unable to transfer money]              NaN   \n",
       "\n",
       "                                                 msg           createdAt  \\\n",
       "0  #one of the best international money transfer ... 2019-01-11 02:27:25   \n",
       "1  'no endless drama' with remitly.for example, i... 2020-06-20 13:29:40   \n",
       "2  (-) 5 minus 5 stars, customer service is insul... 2021-08-25 16:26:01   \n",
       "3  *a very helpful, cheap and fast way to transfe... 2021-02-03 07:00:30   \n",
       "4  - does not work, money transfer was cancelled ... 2021-08-09 12:24:50   \n",
       "\n",
       "   rating version                                    id     source lang  \n",
       "0       5    4.17  a37282cd-746f-44be-a0cb-245ab6f5651e  Playstore   en  \n",
       "1       4    5.16  320846b6-2204-4062-b85c-2e59d458ae6f  Playstore   en  \n",
       "2       1    5.45  11deb1d4-d643-4f33-bc46-0b3c0e627f0c  Playstore   en  \n",
       "3       5    5.32  95bd6285-ace9-4970-9451-f21f0eaa76f0  Playstore   en  \n",
       "4       1    5.45  3326e907-03ea-41a2-b661-510f9be7e3b3  Playstore   en  "
      ]
     },
     "execution_count": 19,
     "metadata": {},
     "output_type": "execute_result"
    }
   ],
   "source": [
    "merger.head()"
   ]
  },
  {
   "cell_type": "code",
   "execution_count": 20,
   "metadata": {},
   "outputs": [],
   "source": [
    "merger = pd.merge(merger,sentiment,how=\"inner\",on=[\"original_untokenised_msg\"])"
   ]
  },
  {
   "cell_type": "code",
   "execution_count": 21,
   "metadata": {},
   "outputs": [
    {
     "data": {
      "text/plain": [
       "10500"
      ]
     },
     "execution_count": 21,
     "metadata": {},
     "output_type": "execute_result"
    }
   ],
   "source": [
    "len(merger)"
   ]
  },
  {
   "cell_type": "code",
   "execution_count": 22,
   "metadata": {},
   "outputs": [],
   "source": [
    "merger = merger.explode('reason')"
   ]
  },
  {
   "cell_type": "code",
   "execution_count": 23,
   "metadata": {},
   "outputs": [
    {
     "data": {
      "text/plain": [
       "10500"
      ]
     },
     "execution_count": 23,
     "metadata": {},
     "output_type": "execute_result"
    }
   ],
   "source": [
    "len(merger)"
   ]
  },
  {
   "cell_type": "code",
   "execution_count": 24,
   "metadata": {},
   "outputs": [],
   "source": [
    "merger = pd.merge(merger,reas_sent,how=\"left\",on=[\"reason\"])"
   ]
  },
  {
   "cell_type": "code",
   "execution_count": 25,
   "metadata": {},
   "outputs": [
    {
     "data": {
      "text/html": [
       "<div>\n",
       "<style scoped>\n",
       "    .dataframe tbody tr th:only-of-type {\n",
       "        vertical-align: middle;\n",
       "    }\n",
       "\n",
       "    .dataframe tbody tr th {\n",
       "        vertical-align: top;\n",
       "    }\n",
       "\n",
       "    .dataframe thead th {\n",
       "        text-align: right;\n",
       "    }\n",
       "</style>\n",
       "<table border=\"1\" class=\"dataframe\">\n",
       "  <thead>\n",
       "    <tr style=\"text-align: right;\">\n",
       "      <th></th>\n",
       "      <th>original_untokenised_msg</th>\n",
       "      <th>reason</th>\n",
       "      <th>entity</th>\n",
       "      <th>msg</th>\n",
       "      <th>createdAt</th>\n",
       "      <th>rating</th>\n",
       "      <th>version</th>\n",
       "      <th>id</th>\n",
       "      <th>source</th>\n",
       "      <th>lang</th>\n",
       "      <th>sentiment</th>\n",
       "      <th>sentiment_confidence</th>\n",
       "      <th>reason_sentiment</th>\n",
       "    </tr>\n",
       "  </thead>\n",
       "  <tbody>\n",
       "    <tr>\n",
       "      <th>0</th>\n",
       "      <td>#one of the best international money transfer ...</td>\n",
       "      <td>good for transfer</td>\n",
       "      <td>[exchange rate]</td>\n",
       "      <td>#one of the best international money transfer ...</td>\n",
       "      <td>2019-01-11 02:27:25</td>\n",
       "      <td>5</td>\n",
       "      <td>4.17</td>\n",
       "      <td>a37282cd-746f-44be-a0cb-245ab6f5651e</td>\n",
       "      <td>Playstore</td>\n",
       "      <td>en</td>\n",
       "      <td>Positive</td>\n",
       "      <td>99.0</td>\n",
       "      <td>Positive</td>\n",
       "    </tr>\n",
       "    <tr>\n",
       "      <th>1</th>\n",
       "      <td>'No endless drama' with remitly...for example,...</td>\n",
       "      <td>want to cancel transaction</td>\n",
       "      <td>NaN</td>\n",
       "      <td>'no endless drama' with remitly.for example, i...</td>\n",
       "      <td>2020-06-20 13:29:40</td>\n",
       "      <td>4</td>\n",
       "      <td>5.16</td>\n",
       "      <td>320846b6-2204-4062-b85c-2e59d458ae6f</td>\n",
       "      <td>Playstore</td>\n",
       "      <td>en</td>\n",
       "      <td>Negative</td>\n",
       "      <td>62.0</td>\n",
       "      <td>Neutral</td>\n",
       "    </tr>\n",
       "    <tr>\n",
       "      <th>2</th>\n",
       "      <td>(-) 5 Minus 5 Stars, Customer Service is insul...</td>\n",
       "      <td>customer service is bad</td>\n",
       "      <td>[payment]</td>\n",
       "      <td>(-) 5 minus 5 stars, customer service is insul...</td>\n",
       "      <td>2021-08-25 16:26:01</td>\n",
       "      <td>1</td>\n",
       "      <td>5.45</td>\n",
       "      <td>11deb1d4-d643-4f33-bc46-0b3c0e627f0c</td>\n",
       "      <td>Playstore</td>\n",
       "      <td>en</td>\n",
       "      <td>Negative</td>\n",
       "      <td>98.0</td>\n",
       "      <td>Negative</td>\n",
       "    </tr>\n",
       "    <tr>\n",
       "      <th>3</th>\n",
       "      <td>*A very helpful, cheap and fast way to transfe...</td>\n",
       "      <td>easy to transfer money</td>\n",
       "      <td>NaN</td>\n",
       "      <td>*a very helpful, cheap and fast way to transfe...</td>\n",
       "      <td>2021-02-03 07:00:30</td>\n",
       "      <td>5</td>\n",
       "      <td>5.32</td>\n",
       "      <td>95bd6285-ace9-4970-9451-f21f0eaa76f0</td>\n",
       "      <td>Playstore</td>\n",
       "      <td>en</td>\n",
       "      <td>Positive</td>\n",
       "      <td>98.0</td>\n",
       "      <td>Positive</td>\n",
       "    </tr>\n",
       "    <tr>\n",
       "      <th>4</th>\n",
       "      <td>- Doesn't work, money transfer was cancelled w...</td>\n",
       "      <td>unable to transfer money</td>\n",
       "      <td>NaN</td>\n",
       "      <td>- does not work, money transfer was cancelled ...</td>\n",
       "      <td>2021-08-09 12:24:50</td>\n",
       "      <td>1</td>\n",
       "      <td>5.45</td>\n",
       "      <td>3326e907-03ea-41a2-b661-510f9be7e3b3</td>\n",
       "      <td>Playstore</td>\n",
       "      <td>en</td>\n",
       "      <td>Negative</td>\n",
       "      <td>97.0</td>\n",
       "      <td>Negative</td>\n",
       "    </tr>\n",
       "  </tbody>\n",
       "</table>\n",
       "</div>"
      ],
      "text/plain": [
       "                            original_untokenised_msg  \\\n",
       "0  #one of the best international money transfer ...   \n",
       "1  'No endless drama' with remitly...for example,...   \n",
       "2  (-) 5 Minus 5 Stars, Customer Service is insul...   \n",
       "3  *A very helpful, cheap and fast way to transfe...   \n",
       "4  - Doesn't work, money transfer was cancelled w...   \n",
       "\n",
       "                       reason           entity  \\\n",
       "0           good for transfer  [exchange rate]   \n",
       "1  want to cancel transaction              NaN   \n",
       "2     customer service is bad        [payment]   \n",
       "3      easy to transfer money              NaN   \n",
       "4    unable to transfer money              NaN   \n",
       "\n",
       "                                                 msg           createdAt  \\\n",
       "0  #one of the best international money transfer ... 2019-01-11 02:27:25   \n",
       "1  'no endless drama' with remitly.for example, i... 2020-06-20 13:29:40   \n",
       "2  (-) 5 minus 5 stars, customer service is insul... 2021-08-25 16:26:01   \n",
       "3  *a very helpful, cheap and fast way to transfe... 2021-02-03 07:00:30   \n",
       "4  - does not work, money transfer was cancelled ... 2021-08-09 12:24:50   \n",
       "\n",
       "   rating version                                    id     source lang  \\\n",
       "0       5    4.17  a37282cd-746f-44be-a0cb-245ab6f5651e  Playstore   en   \n",
       "1       4    5.16  320846b6-2204-4062-b85c-2e59d458ae6f  Playstore   en   \n",
       "2       1    5.45  11deb1d4-d643-4f33-bc46-0b3c0e627f0c  Playstore   en   \n",
       "3       5    5.32  95bd6285-ace9-4970-9451-f21f0eaa76f0  Playstore   en   \n",
       "4       1    5.45  3326e907-03ea-41a2-b661-510f9be7e3b3  Playstore   en   \n",
       "\n",
       "  sentiment  sentiment_confidence reason_sentiment  \n",
       "0  Positive                  99.0         Positive  \n",
       "1  Negative                  62.0          Neutral  \n",
       "2  Negative                  98.0         Negative  \n",
       "3  Positive                  98.0         Positive  \n",
       "4  Negative                  97.0         Negative  "
      ]
     },
     "execution_count": 25,
     "metadata": {},
     "output_type": "execute_result"
    }
   ],
   "source": [
    "merger.head()"
   ]
  },
  {
   "cell_type": "code",
   "execution_count": 30,
   "metadata": {},
   "outputs": [],
   "source": [
    "merger.to_pickle(f\"./data/{customer}/df.pkl\")"
   ]
  }
 ],
 "metadata": {
  "kernelspec": {
   "display_name": "Python 3.9.7 ('dataenv')",
   "language": "python",
   "name": "python3"
  },
  "language_info": {
   "codemirror_mode": {
    "name": "ipython",
    "version": 3
   },
   "file_extension": ".py",
   "mimetype": "text/x-python",
   "name": "python",
   "nbconvert_exporter": "python",
   "pygments_lexer": "ipython3",
   "version": "3.9.7"
  },
  "orig_nbformat": 4,
  "vscode": {
   "interpreter": {
    "hash": "15f5998c0007b0344844da738dc4e1def40cfef40901148bcadd381034873b71"
   }
  }
 },
 "nbformat": 4,
 "nbformat_minor": 2
}
